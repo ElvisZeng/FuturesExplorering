{
 "cells": [
  {
   "cell_type": "code",
   "execution_count": 5,
   "id": "c1eddb51-8df5-43e6-9e27-9fad70790e4c",
   "metadata": {},
   "outputs": [
    {
     "name": "stdout",
     "output_type": "stream",
     "text": [
      "文件D:\\JupyterLabFiles\\Futures\\Futures_exchange_data\\INE\\datas\\ine所内合约行情报表2018.1月-12月.xls处理完成!\n",
      "文件D:\\JupyterLabFiles\\Futures\\Futures_exchange_data\\INE\\datas\\ine所内合约行情报表2019.1月-12月.xls处理完成!\n",
      "文件D:\\JupyterLabFiles\\Futures\\Futures_exchange_data\\INE\\datas\\ine所内合约行情报表2020.1月-12月.xls处理完成!\n",
      "文件D:\\JupyterLabFiles\\Futures\\Futures_exchange_data\\INE\\datas\\ine所内合约行情报表2021.1月-12月.xls处理完成!\n",
      "文件D:\\JupyterLabFiles\\Futures\\Futures_exchange_data\\INE\\datas\\ine所内合约行情报表2022.1月-12月.xls处理完成!\n",
      "文件D:\\JupyterLabFiles\\Futures\\Futures_exchange_data\\INE\\datas\\ine所内合约行情报表2023.1月-12月.xls处理完成!\n",
      "文件D:\\JupyterLabFiles\\Futures\\Futures_exchange_data\\INE\\datas\\ine所内合约行情报表2024.1月-12月.xlsx处理完成!\n",
      "期权数据 INE_options.csv 已保存!\n",
      "期货数据 INE_futures.csv 已保存!\n"
     ]
    }
   ],
   "source": [
    "import os\n",
    "import xlwings as xw\n",
    "import pandas as pd\n",
    "import re\n",
    "\n",
    "main_path = r'D:\\JupyterLabFiles\\Futures\\Futures_exchange_data\\INE'\n",
    "os.chdir(main_path)\n",
    "\n",
    "#获取工作列表脚本\n",
    "def get_file_list(main_path):\n",
    "    files_path = []\n",
    "    for root, dirs, files in os.walk(main_path):\n",
    "        for file in files:\n",
    "            if file.endswith(('.csv', '.xls', '.xlsx')) and not file.startswith('~$'):\n",
    "                files_path.append(os.path.join(root, file))\n",
    "    return files_path\n",
    "\n",
    "def process_file(file):\n",
    "    #AKSHARE的期货列名对应关系字典\n",
    "    futures_column_mapping = {\n",
    "    \"合约\" : \"symbol\",\n",
    "    \"日期\" : \"date\",\n",
    "    \"开盘价\" : \"open\",\n",
    "    \"最高价\" : \"high\",\n",
    "    \"最低价\" : \"low\",\n",
    "    \"收盘价\" : \"close\",\n",
    "    \"成交量\" : \"volume\",\n",
    "    \"持仓量\" : \"open_interest\",\n",
    "    \"成交金额\" : \"turnover\",\n",
    "    \"结算价\" : \"settle\",\n",
    "    \"前结算\" : \"pre_settle\",\n",
    "    }\n",
    "\n",
    "    try:\n",
    "        df = pd.read_excel(file, header=2)\n",
    "        df['合约'] = df['合约'].ffill()\n",
    "        df = df.drop(df[df['合约'].str.contains('注', na = False)].index)\n",
    "        df = df.dropna(subset=['日期'])\n",
    "        futures_columns_to_keep = list(futures_column_mapping.keys())\n",
    "        df = df[futures_columns_to_keep]\n",
    "        #更改列名\n",
    "        df = df.rename(columns = futures_column_mapping)\n",
    "        #创建Variety列\n",
    "        df['variety'] = df['symbol'].str.extract(r'([a-zA-Z]+)')\n",
    "        print(f'文件{file}处理完成!')\n",
    "        return df\n",
    "    except Exception as e:\n",
    "        print(f'文件{file}出错{e}')\n",
    "        return None\n",
    "\n",
    "def table_combine(tables):\n",
    "    tables = pd.concat(tables, ignore_index=True)\n",
    "    date_error_rows = []\n",
    "    for index, row in tables.iterrows():\n",
    "        if not re.match(r'^\\d{8}$', str(row['date'])):  # 使用正则表达式匹配8位数字日期\n",
    "            date_error_rows.append(index)\n",
    "    for i in date_error_rows:\n",
    "        tables = tables.drop([i])\n",
    "    futures = tables[tables['symbol'].str.match(r'^([a-z]+)\\d+$')]  # 匹配'al0501'样式的合约代码\n",
    "    options = tables[tables['symbol'].str.match(r'^([a-z]+)\\d+[CP]\\d+$')] #匹配'al0501C45000,al0501P45000'样式合约代码\n",
    "    options.to_csv('INE_options.csv', index=False, encoding='gbk')\n",
    "    print('期权数据 INE_options.csv 已保存!')\n",
    "    futures.to_csv('INE_futures.csv', index=False, encoding='gbk')\n",
    "    print('期货数据 INE_futures.csv 已保存!')\n",
    "\n",
    "\n",
    "files = get_file_list(main_path)\n",
    "tables = [process_file(file) for file in files]\n",
    "table_combine(tables)"
   ]
  },
  {
   "cell_type": "code",
   "execution_count": null,
   "id": "50966636-bb89-42cc-b808-1ffd572c17ec",
   "metadata": {},
   "outputs": [],
   "source": []
  }
 ],
 "metadata": {
  "kernelspec": {
   "display_name": "Python 3 (ipykernel)",
   "language": "python",
   "name": "python3"
  },
  "language_info": {
   "codemirror_mode": {
    "name": "ipython",
    "version": 3
   },
   "file_extension": ".py",
   "mimetype": "text/x-python",
   "name": "python",
   "nbconvert_exporter": "python",
   "pygments_lexer": "ipython3",
   "version": "3.12.3"
  }
 },
 "nbformat": 4,
 "nbformat_minor": 5
}
